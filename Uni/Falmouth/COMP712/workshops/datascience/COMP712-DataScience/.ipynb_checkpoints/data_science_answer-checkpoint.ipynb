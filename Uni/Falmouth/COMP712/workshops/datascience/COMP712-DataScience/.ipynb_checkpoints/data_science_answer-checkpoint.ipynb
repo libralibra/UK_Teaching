{
 "cells": [
  {
   "cell_type": "markdown",
   "id": "fcc25c73",
   "metadata": {},
   "source": [
    "# <a id='toc1_'></a>[COMP712 Classical Artificial Intelligence](#toc0_)\n",
    "\n",
    "# <a id='toc2_'></a>[Workshop: Data Science using Python](#toc0_)\n",
    "\n",
    "Dr Daniel Zhang @ Falmouth University\\\n",
    "2023-2024 Study Block 1\n",
    "\n",
    "<div id=\"top\"></div>"
   ]
  },
  {
   "cell_type": "markdown",
   "id": "94c1590c",
   "metadata": {},
   "source": [
    "# Table of contents<a id='top'></a><a id='toc0_'></a>    \n",
    "- [COMP712 Classical Artificial Intelligence](#toc1_)    \n",
    "- [Workshop: Data Science using Python](#toc2_)    \n",
    "- [<a id='toc0_'></a>](#toc3_)    \n",
    "  - [Introduction](#toc3_1_)    \n",
    "  - [Jupyter Notebook Basics](#toc3_2_)    \n",
    "  - [Cells](#toc3_3_)    \n",
    "- [Test TOC](#toc4_)    \n",
    "\n",
    "<!-- vscode-jupyter-toc-config\n",
    "\tnumbering=false\n",
    "\tanchor=true\n",
    "\tflat=false\n",
    "\tminLevel=1\n",
    "\tmaxLevel=6\n",
    "\t/vscode-jupyter-toc-config -->\n",
    "<!-- THIS CELL WILL BE REPLACED ON TOC UPDATE. DO NOT WRITE YOUR TEXT IN THIS CELL -->"
   ]
  },
  {
   "cell_type": "markdown",
   "id": "ee73212a",
   "metadata": {},
   "source": [
    "## <a id='toc3_1_'></a>[Introduction](#toc0_)\n",
    "\n",
    "[Top](#top)\n",
    "\n",
    "Welcome to this comprehensive workshop on Data Science using Python! Once the notebook is launched successfully, it indicates that all the necessary prerequisites are met, and you're all set to begin!"
   ]
  },
  {
   "cell_type": "markdown",
   "id": "2eefbca6",
   "metadata": {},
   "source": [
    "## <a id='toc3_2_'></a>[Jupyter Notebook Basics](#toc0_)\n",
    "\n",
    "[Top](#top)"
   ]
  },
  {
   "cell_type": "markdown",
   "id": "fb6e3324",
   "metadata": {},
   "source": [
    "JupyterLab, the successor of Jupyter Notebook, is a powerful interactive development environment (IDE) that revolutionises the way we work with data, code, and visualisations. At its core, JupyterLab provides a flexible and user-friendly interface that combines various elements crucial for data analysis and scientific computing. \n",
    "\n",
    "JupyterLab provides an interactive notebook interface where you can write and execute code, add text explanations using markdown, and visualise results in real-time. This enables seamless transitions between various tasks, promoting a highly interactive and collaborative workflow.\n",
    "\n",
    "At the heart of JupyterLab lies the concept of kernels, which are computational engines responsible for executing code within notebooks. This architecture allows users to work with different programming languages within the same interface. Users can choose from various kernels, such as `Python`, `R`, `Julia`, and others, making JupyterLab a versatile environment for multi-language development and analysis. Overall, JupyterLab's simplicity, versatility, and integration of different tools make it an indispensable platform for data scientists, researchers, and educators seeking an intuitive yet powerful environment for data exploration and analysis."
   ]
  },
  {
   "cell_type": "markdown",
   "id": "2c7e7b18",
   "metadata": {},
   "source": [
    "# The Notebook Elements\n",
    "\n",
    "[Top](#top)\n",
    "\n",
    "After opening a notebook, the left file panel remains unchanged. The main area would be used for displaying the notebook's contents and interactions with the Python kernel.\n",
    "\n",
    "## The Main Toolbar\n",
    "\n",
    "[Top](#top)\n",
    "\n",
    "The JupyterLab main toolbar consists of buttons that provide quick access to essential functionalities, as shown below.\n",
    "\n",
    "![JupyterLab Toolbar Buttons](img/jupyterlab_toolbar.png)\n",
    "\n",
    "Here's an overview of some common toolbar buttons:\n",
    "\n",
    "1. `Save`: The floppy disk icon represents the \"Save\" button, allowing users to save changes made to the notebook. Clicking this button or using the shortcut <kbd>Ctrl + S</kbd> (or <kbd>Cmd + S</kbd> on Mac) saves the notebook.\n",
    "\n",
    "2. `Add Cell`: This button adds a new cell to the notebook. Clicking the \"<kbd>+</kbd>\" icon creates a new cell below the currently selected cell.\n",
    "\n",
    "3,4,5. `Cut`, `Copy`, `Paste`: The scissors, copy, and clipboard icons respectively perform cut, copy, and paste operations on cells within the notebook.\n",
    "\n",
    "6. `Run`: The \"Run\" button executes the code in the currently selected cell. Pressing this button or using <kbd>Shift + Enter</kbd> runs the cell and displays the output below the code cell.\n",
    "\n",
    "7. `Interrupt Kernel`: The square \"stop\" icon is used to interrupt or halt the execution of code cells. It stops the execution of a cell that's taking too long to run or is stuck in an infinite loop.\n",
    "\n",
    "8. `Restart Kernel`: The circular arrow icon restarts the kernel. Restarting the kernel resets the computational state, clearing all variables and previously executed code. Use this button cautiously, as it resets the notebook's memory.\n",
    "\n",
    "9. `Restart Kernel and Run All Cells`: The fast-forward icon restarts the kernel and executes all cells in the current notebook one after another. This button resets the notebook's memory as well.\n",
    "\n",
    "10. `Cell Type`: The dropdown menu allows users to change the cell type (`Code`, `Markdown`, and `Raw`) of the selected cell, which will be explained below in detail.\n",
    "\n",
    "\n",
    "There is a kernel status indicator area on the notebook's top-right corner. This indicator displays the status of the kernel (the computational engine) associated with the notebook. It shows whether the kernel is idle, busy executing code, or has encountered an error, as shown below.\n",
    "\n",
    "![Kernel Status](img/jupyterlab_kernel.png)"
   ]
  },
  {
   "cell_type": "markdown",
   "id": "c27a1634",
   "metadata": {},
   "source": [
    "## <a id='toc3_3_'></a>[Cell Types](#toc0_)\n",
    "\n",
    "[Top](#top)\n",
    "\n",
    "Inside the notebook, you'll find cells where you can write code or text. The current cell can be executed by pressing <kbd>Shift + Enter</kbd> or the `Run` button in the main toolbar. If you highlight one cell, some extra shortcut buttons will appear at the top-right corner of the cell for cell manipulation. These buttons can be used to move the current cell up or down, make a duplication of the cell, add a new cell above or below the current one, or delete the cell from the notebook.\n",
    "\n",
    "In JupyterLab, there are primarily three types of cells: `Code`, `Markdown`, and `Raw`."
   ]
  },
  {
   "cell_type": "markdown",
   "id": "e3a58787-28d4-4528-8766-4dd18174afc0",
   "metadata": {},
   "source": [
    "### **Code Cells**\n",
    "\n",
    "[Top](#top)\n",
    "\n",
    "These cells are used to write and execute code. When you enter Python, R, Julia, or any other supported language's code into a code cell, you can run it by pressing <kbd>Shift + Enter</kbd>. The output of the code appears directly below the cell. Code cells are where you perform computations, define functions, import libraries, and execute algorithms. They are the core components for interactive programming within Jupyter notebooks.\n",
    "\n",
    "For example, the following cell is a **`code`** cell that displays the information of your machine and operating system. \n",
    "\n",
    "> **Note**: the `%%time` is a useful magic command I used a lot personally. It can be placed as the first line of any `code cell` to measure the running time of the cell."
   ]
  },
  {
   "cell_type": "code",
   "execution_count": 33,
   "id": "07068f48-7430-49b1-96cb-23a9f45bb695",
   "metadata": {
    "execution": {
     "iopub.execute_input": "2023-12-10T20:52:28.020730Z",
     "iopub.status.busy": "2023-12-10T20:52:28.019733Z",
     "iopub.status.idle": "2023-12-10T20:52:28.045817Z",
     "shell.execute_reply": "2023-12-10T20:52:28.043816Z",
     "shell.execute_reply.started": "2023-12-10T20:52:28.020730Z"
    }
   },
   "outputs": [
    {
     "name": "stdout",
     "output_type": "stream",
     "text": [
      "System information: AMD64-Windows-10.0.22621\n",
      "CPU times: total: 0 ns\n",
      "Wall time: 0 ns\n"
     ]
    }
   ],
   "source": [
    "%%time\n",
    "\n",
    "import platform\n",
    "print('System information: ' + platform.machine() + '-' + platform.system()  + '-' + platform.version())"
   ]
  },
  {
   "cell_type": "markdown",
   "id": "00dd4424-dfe1-4edd-98c3-93e89781359c",
   "metadata": {},
   "source": [
    "> **Note**: The output of a cell can be removed by right-clicking on the cell and selecting `Clear Cell Output` from the pop-up menu items. Or you can clear all the output blocks in the current notebook by selecting `Clear Outputs of All Cells`."
   ]
  },
  {
   "cell_type": "markdown",
   "id": "8a52e859-34bc-42e1-a68d-5ab7e252cf46",
   "metadata": {},
   "source": [
    "### **Markdown Cell** \n",
    "\n",
    "[Top](#top)\n",
    "\n",
    "Markdown cells are used for text explanations, formatted documentation, and commentary within the notebook. Markdown is a lightweight markup language that allows users to add formatted text, headings, lists, images, hyperlinks, and more. Users can create rich text content by applying simple syntax, making it a versatile tool for adding context, explanations, or instructions alongside code. For instance, most of this workshop materials are written in `Markdown` cells."
   ]
  },
  {
   "cell_type": "markdown",
   "id": "3fb11b83-c8da-4d3d-835d-9c5c852bb001",
   "metadata": {},
   "source": [
    "### **Raw Cell**\n",
    "\n",
    "[Top](#top)\n",
    "\n",
    "Raw cells are uncommonly used and are primarily used for storing unformatted text or content that should not be executed. Raw cells allow users to enter text that will be included in the notebook metadata but will not be formatted or executed as code or markdown. This feature might be useful for including raw data or annotations that don't require formatting. \n",
    "\n",
    "An example of a `Raw` cell is shown below. In practice, you might not use it very often, or at all, as the combination of `Code` and `Markdown` cells can already fulfil our requirements."
   ]
  },
  {
   "cell_type": "raw",
   "id": "b7e84981-2e4d-45c0-98c0-43b1a9b66f3b",
   "metadata": {},
   "source": [
    "This is a raw cell that will not be executed by the kernel."
   ]
  },
  {
   "cell_type": "markdown",
   "id": "e2d1a08f-dd6d-4dc4-8894-359a647d3333",
   "metadata": {},
   "source": [
    "# Working with `NumPy` and `Matplotlib`\n",
    "\n",
    "[Top](#top)\n",
    "\n",
    "`NumPy` is the core library for scientific computing in Python. It provides high-performance arrays and matrices for efficient data manipulation. `Matplotlib` provides useful functions for data visualisations. As we already discussed their capabilities in the lecture session, some tasks are set up for you to practice. \n",
    "\n",
    "Let's import the relavent libraires first!"
   ]
  },
  {
   "cell_type": "code",
   "execution_count": 35,
   "id": "298d8811-8c7a-4644-92da-8bec9f758978",
   "metadata": {
    "execution": {
     "iopub.execute_input": "2023-12-10T20:53:18.573498Z",
     "iopub.status.busy": "2023-12-10T20:53:18.572492Z",
     "iopub.status.idle": "2023-12-10T20:53:18.615857Z",
     "shell.execute_reply": "2023-12-10T20:53:18.613858Z",
     "shell.execute_reply.started": "2023-12-10T20:53:18.573498Z"
    }
   },
   "outputs": [
    {
     "name": "stdout",
     "output_type": "stream",
     "text": [
      "NumPy version: 1.26.1\n",
      "Matplotlib version: 3.8.2\n",
      "CPU times: total: 0 ns\n",
      "Wall time: 0 ns\n"
     ]
    }
   ],
   "source": [
    "%%time \n",
    "\n",
    "# import numpy library \n",
    "import numpy as np \n",
    "print(f'NumPy version: {np.__version__}')\n",
    "\n",
    "# import matplotlib for visulisation, you'll be learning this later\n",
    "import matplotlib\n",
    "from matplotlib import pyplot as plt\n",
    "print(f'Matplotlib version: {matplotlib.__version__}')\n",
    "\n",
    "# import time and other modules\n",
    "import time\n",
    "from IPython.display import clear_output\n",
    "\n",
    "def animate_3d_mat(mat, t=0.1):\n",
    "    ''' display a 3D matrix as animation, each layer will be considered as an image frame (0.5 frame/sec)\n",
    "        mat: TxMxN matrix (ndarray in NumPy)\n",
    "        T: would be the time ticks\n",
    "    '''\n",
    "    if not isinstance(mat,np.ndarray):\n",
    "        mat = np.array(mat) \n",
    "    if mat.ndim != 3:\n",
    "        print(f'ERROR: the input must be a 3D matrix, current dimension = {mat.ndim}')\n",
    "        return \n",
    "    for layer in mat: \n",
    "        clear_output(wait=True)\n",
    "        display_as_image(layer)\n",
    "        if t>0:\n",
    "            time.sleep(t)\n",
    "\n",
    "def is_2d_array(arr):\n",
    "    ''' return true if the input is a 2D array of python list of list '''\n",
    "    if not isinstance(arr, np.ndarray) and not isinstance(arr,list):\n",
    "        print('ERROR: the input must be either NumPy ndarray or Python 2D list')\n",
    "        return False\n",
    "    if isinstance(arr, np.ndarray) and arr.ndim != 2:\n",
    "        print(f'ERROR: the input NumPy array must be a 2D array, current dim = {arr.ndim}')\n",
    "        return False\n",
    "    if isinstance(arr, list):\n",
    "        if len(arr) == 0:\n",
    "            return False\n",
    "        if not isinstance(arr[0], list):\n",
    "            print(f'ERROR: the input Python list must be a list of list')\n",
    "            return False\n",
    "    return True\n",
    "\n",
    "def print_data(arr):\n",
    "    ''' print numpy array and python list raw data '''\n",
    "    if not is_2d_array(arr):\n",
    "        return \n",
    "    for row in arr:\n",
    "        for col in row:\n",
    "            print(f'{col}\\t')\n",
    "        print()\n",
    "\n",
    "def print_text(arr): \n",
    "    ''' print numpy array and python list data as text '''\n",
    "    if not is_2d_array(arr):\n",
    "        return \n",
    "    for row in arr:\n",
    "        print(''.join([chr(c) for c in row]))\n",
    "\n",
    "def display_as_image(arr): \n",
    "    ''' display a 2D array as image '''\n",
    "    if not is_2d_array(arr):\n",
    "        return\n",
    "    arr = np.array(arr)\n",
    "    plt.imshow(arr,interpolation='nearest')\n",
    "    plt.axis('off')\n",
    "    plt.show()\n",
    "\n",
    "def get_gosper_gun():\n",
    "    ''' return the Gosper gun initial state '''\n",
    "    return np.array([[0,0,0,0,0,0,0,0,0,0,0,0,0,0,0,0,0,0,0,0,0,0,0,0,1,0,0,0,0,0,0,0,0,0,0,0],\n",
    "[0,0,0,0,0,0,0,0,0,0,0,0,0,0,0,0,0,0,0,0,0,0,1,0,1,0,0,0,0,0,0,0,0,0,0,0],\n",
    "[0,0,0,0,0,0,0,0,0,0,0,0,1,1,0,0,0,0,0,0,1,1,0,0,0,0,0,0,0,0,0,0,0,0,1,1],\n",
    "[0,0,0,0,0,0,0,0,0,0,0,1,0,0,0,1,0,0,0,0,1,1,0,0,0,0,0,0,0,0,0,0,0,0,1,1],\n",
    "[1,1,0,0,0,0,0,0,0,0,1,0,0,0,0,0,1,0,0,0,1,1,0,0,0,0,0,0,0,0,0,0,0,0,0,0],\n",
    "[0,1,0,0,0,0,0,0,0,0,1,0,0,0,1,0,0,1,0,0,0,0,1,0,1,0,0,0,0,0,0,0,0,0,0,0],\n",
    "[0,0,0,0,0,0,0,0,0,0,1,0,0,0,0,0,1,0,0,0,0,0,0,0,1,0,0,0,0,0,0,0,0,0,0,0],\n",
    "[0,0,0,0,0,0,0,0,0,0,0,1,0,0,0,1,0,0,0,0,0,0,0,0,0,0,0,0,0,0,0,0,0,0,0,0],\n",
    "[0,0,0,0,0,0,0,0,0,0,0,0,1,1,0,0,0,0,0,0,0,0,0,0,0,0,0,0,0,0,0,0,0,0,0,0]])"
   ]
  },
  {
   "cell_type": "markdown",
   "id": "3344e830-cf6e-4733-a482-1a45d664c8e7",
   "metadata": {},
   "source": [
    "## Task1: Array manipulation\n",
    "\n",
    "Create a 2D array with random integers and sort each row in ascending order.\n",
    "Concatenate two arrays vertically and horizontally."
   ]
  },
  {
   "cell_type": "code",
   "execution_count": 4,
   "id": "016a913e-6f35-4a0d-846a-d609dd3527b0",
   "metadata": {
    "execution": {
     "iopub.execute_input": "2023-12-10T19:21:40.123223Z",
     "iopub.status.busy": "2023-12-10T19:21:40.121214Z",
     "iopub.status.idle": "2023-12-10T19:21:40.149813Z",
     "shell.execute_reply": "2023-12-10T19:21:40.148023Z",
     "shell.execute_reply.started": "2023-12-10T19:21:40.123223Z"
    }
   },
   "outputs": [
    {
     "name": "stdout",
     "output_type": "stream",
     "text": [
      "CPU times: total: 0 ns\n",
      "Wall time: 0 ns\n"
     ]
    }
   ],
   "source": [
    "%%time \n",
    "\n",
    "# YOUR CODE HERE\n"
   ]
  },
  {
   "cell_type": "markdown",
   "id": "e9126cdc-19f2-46b1-9717-e21379d2964a",
   "metadata": {},
   "source": [
    "## Taks 2: Plot the first 10 rows of your matrix \n",
    "\n",
    "Now, make use of the matrix (or 2D array) you created in the last task since all variables created in the notebook are available during the session. They will be ready to use unless the kernel is restarted. Plot the first 10 rows in the same plot."
   ]
  },
  {
   "cell_type": "code",
   "execution_count": null,
   "id": "7b99e5e7-120d-4f35-a870-2bd95062a252",
   "metadata": {},
   "outputs": [],
   "source": [
    "%%time \n",
    "\n",
    "# YOUR CODE HERE"
   ]
  },
  {
   "cell_type": "markdown",
   "id": "4ec06fda-7529-4ae2-80c5-721c2b170ae5",
   "metadata": {},
   "source": [
    "\n",
    "## Task 3: Implement the Game of Life\n",
    "\n",
    "Implement the Game of Life on a 100x100 grid board using NumPy arrays and the rules of the game to simulate cell evolution over 60 generations.tin.gif)"
   ]
  },
  {
   "cell_type": "markdown",
   "id": "4a56d055-0cc5-4b9a-b58d-2f1abc45f6f5",
   "metadata": {},
   "source": [
    "**The Rules** \n",
    "\n",
    "The universe of the Game of Life is an infinite, two-dimensional orthogonal grid of square cells, each of which is in one of two possible states, live or dead (or populated and unpopulated, respectively). Every cell interacts with its eight neighbours, which are the cells that are horizontally, vertically, or diagonally adjacent. At each step in time, the following transitions occur:\r\n",
    "\r\n",
    "- Any live cell with fewer than two live neighbours dies, as if by underpopulation.\r\n",
    "- Any live cell with two or three live neighbours lives on to the next generation.\r\n",
    "- Any live cell with more than three live neighbours dies, as if by overpopulation.\r\n",
    "- Any dead cell with exactly three live neighbours becomes a live cell, as if by reproduction.\r\n",
    "\r\n",
    "The initial pattern constitutes the seed of the system. The first generation is created by applying the above rules simultaneously to every cell in the seed, live or dead; births and deaths occur simultaneously, and the discrete moment at which this happens is sometimes called a tick. Each generation is a pure function of the preceding one. The rules continue to be applied repeatedly to create further generations."
   ]
  },
  {
   "cell_type": "markdown",
   "id": "576e6e28-47d2-4c48-be23-90f19c5afe0e",
   "metadata": {},
   "source": [
    "Check [[**the Wiki papge**](https://www.wikiwand.com/en/Conway%27s_Game_of_Life)] for more information. f)"
   ]
  },
  {
   "cell_type": "code",
   "execution_count": 32,
   "id": "099583a9-3878-4ecb-bba6-6883b6fea2a3",
   "metadata": {
    "execution": {
     "iopub.execute_input": "2023-12-10T20:49:08.710871Z",
     "iopub.status.busy": "2023-12-10T20:49:08.709639Z",
     "iopub.status.idle": "2023-12-10T20:49:22.422835Z",
     "shell.execute_reply": "2023-12-10T20:49:22.421722Z",
     "shell.execute_reply.started": "2023-12-10T20:49:08.710871Z"
    }
   },
   "outputs": [
    {
     "data": {
      "image/png": "[encoded data removed]",
      "text/plain": [
       "<Figure size 640x480 with 1 Axes>"
      ]
     },
     "metadata": {},
     "output_type": "display_data"
    },
    {
     "name": "stdout",
     "output_type": "stream",
     "text": [
      "CPU times: total: 1.91 s\n",
      "Wall time: 13.7 s\n"
     ]
    }
   ],
   "source": [
    "%%time\n",
    "\n",
    "def get_neightbour(m,r,c):\n",
    "    row,col = m.shape\n",
    "    return m[max(0,r-1):min(row-1,r+2),max(0,c-1):min(col-1,c+2)]\n",
    "    \n",
    "def play(mat):\n",
    "    row,col = mat.shape\n",
    "    m = np.zeros((row,col))\n",
    "    for r in range(row):\n",
    "        for c in range(col):\n",
    "            nbs = get_neightbour(mat,r,c).flatten()\n",
    "            if mat[r,c] == 0 and sum(nbs):\n",
    "                m[r,c] = 1 \n",
    "            elif mat[r,c]==1 and (sum(nbs) < 2 or sum(nbs) >= 3):\n",
    "                m[r,c] = 0\n",
    "            elif mat[r,c]==1 and 2 <= sum(nbs) < 3:\n",
    "                m[r,c] = 1\n",
    "    return m\n",
    "    \n",
    "T, M, N = 60, 11, 40\n",
    "mat = np.zeros((T,M,N))\n",
    "init = get_gosper_gun()\n",
    "\n",
    "row,col = init.shape\n",
    "print(row,col)\n",
    "mat[0,0:row,0:col] = init\n",
    "#mat[0,10:10+row,10:10+col] = init\n",
    "\n",
    "for i in range(1,T):\n",
    "    print(f'Working on layer {i}')\n",
    "    mat[i,:,:] = play(mat[i-1,:,:])\n",
    "\n",
    "clear_output(True)\n",
    "display_as_image(mat[0,:,:])\n",
    "time.sleep(3)\n",
    "animate_3d_mat(mat)"
   ]
  },
  {
   "cell_type": "code",
   "execution_count": null,
   "id": "48b81244-57a1-40fe-9b26-5a1fd8830b3f",
   "metadata": {},
   "outputs": [],
   "source": []
  },
  {
   "cell_type": "code",
   "execution_count": null,
   "id": "971bcc2c-5344-4429-94a6-0224231afa8d",
   "metadata": {},
   "outputs": [],
   "source": []
  },
  {
   "cell_type": "code",
   "execution_count": null,
   "id": "0e1bb75d-7261-41e0-8588-feedf1c5b93a",
   "metadata": {},
   "outputs": [],
   "source": []
  },
  {
   "cell_type": "markdown",
   "id": "5e585b08-ccd4-422b-9ce0-60fb8ffa6f14",
   "metadata": {
    "execution": {
     "iopub.execute_input": "2023-12-10T11:39:31.872658Z",
     "iopub.status.busy": "2023-12-10T11:39:31.872658Z",
     "iopub.status.idle": "2023-12-10T11:39:31.897700Z",
     "shell.execute_reply": "2023-12-10T11:39:31.897583Z",
     "shell.execute_reply.started": "2023-12-10T11:39:31.872658Z"
    }
   },
   "source": [
    "For consistance, `NumPy` has been imported as `np` for the rest of this notebook. There are several helper functions defined already."
   ]
  },
  {
   "cell_type": "markdown",
   "id": "368603cb-57f0-4148-a690-30565d97456c",
   "metadata": {},
   "source": [
    "## Tasks\n",
    "\n",
    "[Top](#top)\n",
    "\n",
    "1. Create `NumPy` arrays, desired output:\n",
    "\n"
   ]
  },
  {
   "cell_type": "code",
   "execution_count": 277,
   "id": "be8e0a99-d3cc-4d67-b9cd-bb6bdc19d2db",
   "metadata": {
    "execution": {
     "iopub.execute_input": "2023-12-10T16:55:09.254564Z",
     "iopub.status.busy": "2023-12-10T16:55:09.254564Z",
     "iopub.status.idle": "2023-12-10T16:55:09.281732Z",
     "shell.execute_reply": "2023-12-10T16:55:09.279739Z",
     "shell.execute_reply.started": "2023-12-10T16:55:09.254564Z"
    }
   },
   "outputs": [
    {
     "name": "stdout",
     "output_type": "stream",
     "text": [
      "CPU times: total: 0 ns\n",
      "Wall time: 0 ns\n"
     ]
    }
   ],
   "source": [
    "%%time\n",
    "def load_file(f='task1.txt'):\n",
    "    return [[int(ord(c)) for c in row] for row in open(f,'r').readlines()]\n",
    "\n",
    "def write_text(new_arr,f='task1.txt'):\n",
    "    with open(f,'w') as fout: \n",
    "        for row in new_arr.tolist():\n",
    "            for col in row:\n",
    "                fout.write(chr(int(col)))\n",
    "            fout.write('\\n')\n",
    "    print(f'{f} has been written')\n",
    "\n",
    "def write_data(new_arr,f='task1.txt'):\n",
    "    with open(f,'w') as fout: \n",
    "        for row in new_arr.tolist():\n",
    "            for col in row:\n",
    "                fout.write(chr(int(col)))\n",
    "            fout.write('\\n')\n",
    "    print(f'{f} has been written')\n",
    "\n",
    "def change(new_arr):\n",
    "    new_arr = np.array(new_arr,dtype='int')\n",
    "    row,col = new_arr.shape\n",
    "    gt = np.concatenate((new_arr[int(row/2):,:],new_arr[1:int(row/2),:]))\n",
    "    gt = np.concatenate((gt[:,int(col/2):],gt[:,1:int(col/2)]),axis=1)\n",
    "    return gt"
   ]
  },
  {
   "cell_type": "code",
   "execution_count": 267,
   "id": "1d7ee861-a4f4-4606-ba4f-83be2d56319e",
   "metadata": {
    "execution": {
     "iopub.execute_input": "2023-12-10T16:51:51.355092Z",
     "iopub.status.busy": "2023-12-10T16:51:51.353093Z",
     "iopub.status.idle": "2023-12-10T16:51:51.455450Z",
     "shell.execute_reply": "2023-12-10T16:51:51.452528Z",
     "shell.execute_reply.started": "2023-12-10T16:51:51.355092Z"
    }
   },
   "outputs": [
    {
     "ename": "ValueError",
     "evalue": "setting an array element with a sequence. The requested array has an inhomogeneous shape after 1 dimensions. The detected shape was (408,) + inhomogeneous part.",
     "output_type": "error",
     "traceback": [
      "\u001b[1;31m---------------------------------------------------------------------------\u001b[0m",
      "\u001b[1;31mValueError\u001b[0m                                Traceback (most recent call last)",
      "Cell \u001b[1;32mIn[267], line 1\u001b[0m\n\u001b[1;32m----> 1\u001b[0m gg \u001b[38;5;241m=\u001b[39m \u001b[43mload_file\u001b[49m\u001b[43m(\u001b[49m\u001b[43m)\u001b[49m\n",
      "File \u001b[1;32m<timed exec>:2\u001b[0m, in \u001b[0;36mload_file\u001b[1;34m(f)\u001b[0m\n",
      "\u001b[1;31mValueError\u001b[0m: setting an array element with a sequence. The requested array has an inhomogeneous shape after 1 dimensions. The detected shape was (408,) + inhomogeneous part."
     ]
    }
   ],
   "source": [
    "gg = load_file()"
   ]
  },
  {
   "cell_type": "code",
   "execution_count": 211,
   "id": "7bfa1701-ff91-4fb2-9caa-85e6e3eb57b7",
   "metadata": {
    "execution": {
     "iopub.execute_input": "2023-12-10T16:31:32.859029Z",
     "iopub.status.busy": "2023-12-10T16:31:32.858029Z",
     "iopub.status.idle": "2023-12-10T16:31:32.878766Z",
     "shell.execute_reply": "2023-12-10T16:31:32.876765Z",
     "shell.execute_reply.started": "2023-12-10T16:31:32.859029Z"
    }
   },
   "outputs": [
    {
     "data": {
      "text/plain": [
       "408"
      ]
     },
     "execution_count": 211,
     "metadata": {},
     "output_type": "execute_result"
    }
   ],
   "source": [
    "len(gg)\n"
   ]
  },
  {
   "cell_type": "code",
   "execution_count": 212,
   "id": "c139ea89-83c9-456d-9eb5-b7ee2c2ea6c8",
   "metadata": {
    "execution": {
     "iopub.execute_input": "2023-12-10T16:31:34.820445Z",
     "iopub.status.busy": "2023-12-10T16:31:34.819446Z",
     "iopub.status.idle": "2023-12-10T16:31:34.844885Z",
     "shell.execute_reply": "2023-12-10T16:31:34.842883Z",
     "shell.execute_reply.started": "2023-12-10T16:31:34.820445Z"
    }
   },
   "outputs": [
    {
     "data": {
      "text/plain": [
       "305"
      ]
     },
     "execution_count": 212,
     "metadata": {},
     "output_type": "execute_result"
    }
   ],
   "source": [
    "len(gt)"
   ]
  },
  {
   "cell_type": "code",
   "execution_count": 215,
   "id": "4614e174-1b61-4e97-9b28-788340ff3f4d",
   "metadata": {
    "execution": {
     "iopub.execute_input": "2023-12-10T16:32:15.728465Z",
     "iopub.status.busy": "2023-12-10T16:32:15.727462Z",
     "iopub.status.idle": "2023-12-10T16:32:15.747938Z",
     "shell.execute_reply": "2023-12-10T16:32:15.745939Z",
     "shell.execute_reply.started": "2023-12-10T16:32:15.728465Z"
    }
   },
   "outputs": [
    {
     "data": {
      "text/plain": [
       "306"
      ]
     },
     "execution_count": 215,
     "metadata": {},
     "output_type": "execute_result"
    }
   ],
   "source": [
    "len(new_arr)"
   ]
  },
  {
   "cell_type": "code",
   "execution_count": 216,
   "id": "f134f471-08b8-47f4-b00c-404a5fe1ba29",
   "metadata": {
    "execution": {
     "iopub.execute_input": "2023-12-10T16:32:22.601478Z",
     "iopub.status.busy": "2023-12-10T16:32:22.598964Z",
     "iopub.status.idle": "2023-12-10T16:32:22.715100Z",
     "shell.execute_reply": "2023-12-10T16:32:22.713102Z",
     "shell.execute_reply.started": "2023-12-10T16:32:22.601478Z"
    }
   },
   "outputs": [
    {
     "data": {
      "image/png": "[encoded data removed]",
      "text/plain": [
       "<Figure size 640x480 with 1 Axes>"
      ]
     },
     "metadata": {},
     "output_type": "display_data"
    }
   ],
   "source": [
    "display_as_image(new_arr)"
   ]
  },
  {
   "cell_type": "code",
   "execution_count": 217,
   "id": "678f373b-01f6-4cdc-8f46-5cd8aa57ba75",
   "metadata": {
    "execution": {
     "iopub.execute_input": "2023-12-10T16:32:33.337248Z",
     "iopub.status.busy": "2023-12-10T16:32:33.335235Z",
     "iopub.status.idle": "2023-12-10T16:32:33.384888Z",
     "shell.execute_reply": "2023-12-10T16:32:33.381893Z",
     "shell.execute_reply.started": "2023-12-10T16:32:33.337248Z"
    }
   },
   "outputs": [
    {
     "ename": "ValueError",
     "evalue": "setting an array element with a sequence. The requested array has an inhomogeneous shape after 1 dimensions. The detected shape was (408,) + inhomogeneous part.",
     "output_type": "error",
     "traceback": [
      "\u001b[1;31m---------------------------------------------------------------------------\u001b[0m",
      "\u001b[1;31mValueError\u001b[0m                                Traceback (most recent call last)",
      "Cell \u001b[1;32mIn[217], line 1\u001b[0m\n\u001b[1;32m----> 1\u001b[0m \u001b[43mdisplay_as_image\u001b[49m\u001b[43m(\u001b[49m\u001b[43mgg\u001b[49m\u001b[43m)\u001b[49m\n",
      "File \u001b[1;32m<timed exec>:36\u001b[0m, in \u001b[0;36mdisplay_as_image\u001b[1;34m(arr)\u001b[0m\n",
      "\u001b[1;31mValueError\u001b[0m: setting an array element with a sequence. The requested array has an inhomogeneous shape after 1 dimensions. The detected shape was (408,) + inhomogeneous part."
     ]
    }
   ],
   "source": [
    "display_as_image(gg)"
   ]
  },
  {
   "cell_type": "code",
   "execution_count": 287,
   "id": "ad8162eb-5e88-4ac6-b287-5c2871680c16",
   "metadata": {
    "execution": {
     "iopub.execute_input": "2023-12-10T16:56:20.857286Z",
     "iopub.status.busy": "2023-12-10T16:56:20.857286Z",
     "iopub.status.idle": "2023-12-10T16:56:20.979460Z",
     "shell.execute_reply": "2023-12-10T16:56:20.977549Z",
     "shell.execute_reply.started": "2023-12-10T16:56:20.857286Z"
    }
   },
   "outputs": [
    {
     "data": {
      "image/png": "[encoded data removed]",
      "text/plain": [
       "<Figure size 640x480 with 1 Axes>"
      ]
     },
     "metadata": {},
     "output_type": "display_data"
    }
   ],
   "source": [
    "display_as_image(gt)"
   ]
  },
  {
   "cell_type": "code",
   "execution_count": 286,
   "id": "98084805-4997-46b6-b0c6-6a02eaceed9e",
   "metadata": {
    "execution": {
     "iopub.execute_input": "2023-12-10T16:56:17.458515Z",
     "iopub.status.busy": "2023-12-10T16:56:17.457567Z",
     "iopub.status.idle": "2023-12-10T16:56:17.471192Z",
     "shell.execute_reply": "2023-12-10T16:56:17.469970Z",
     "shell.execute_reply.started": "2023-12-10T16:56:17.458515Z"
    }
   },
   "outputs": [
    {
     "data": {
      "text/plain": [
       "(305, 601)"
      ]
     },
     "execution_count": 286,
     "metadata": {},
     "output_type": "execute_result"
    }
   ],
   "source": [
    "gt.shape"
   ]
  },
  {
   "cell_type": "code",
   "execution_count": 284,
   "id": "8da79245-66df-4da2-9785-b28aeee5ccf3",
   "metadata": {
    "execution": {
     "iopub.execute_input": "2023-12-10T16:56:12.259534Z",
     "iopub.status.busy": "2023-12-10T16:56:12.258530Z",
     "iopub.status.idle": "2023-12-10T16:56:12.294744Z",
     "shell.execute_reply": "2023-12-10T16:56:12.292743Z",
     "shell.execute_reply.started": "2023-12-10T16:56:12.259534Z"
    }
   },
   "outputs": [],
   "source": [
    "gg = load_file('banner.txt')"
   ]
  },
  {
   "cell_type": "code",
   "execution_count": 234,
   "id": "f167446b-1bb3-4d5e-95ce-8e77fc40f3ad",
   "metadata": {
    "execution": {
     "iopub.execute_input": "2023-12-10T16:40:15.835672Z",
     "iopub.status.busy": "2023-12-10T16:40:15.834673Z",
     "iopub.status.idle": "2023-12-10T16:40:15.855965Z",
     "shell.execute_reply": "2023-12-10T16:40:15.853965Z",
     "shell.execute_reply.started": "2023-12-10T16:40:15.835672Z"
    }
   },
   "outputs": [
    {
     "data": {
      "text/plain": [
       "102"
      ]
     },
     "execution_count": 234,
     "metadata": {},
     "output_type": "execute_result"
    }
   ],
   "source": [
    "len(gg)"
   ]
  },
  {
   "cell_type": "code",
   "execution_count": 285,
   "id": "c950ff8a-161d-4119-bbc8-20101585b57f",
   "metadata": {
    "execution": {
     "iopub.execute_input": "2023-12-10T16:56:14.217749Z",
     "iopub.status.busy": "2023-12-10T16:56:14.216749Z",
     "iopub.status.idle": "2023-12-10T16:56:14.323593Z",
     "shell.execute_reply": "2023-12-10T16:56:14.322793Z",
     "shell.execute_reply.started": "2023-12-10T16:56:14.217749Z"
    }
   },
   "outputs": [
    {
     "data": {
      "image/png": "[encoded data removed]",
      "text/plain": [
       "<Figure size 640x480 with 1 Axes>"
      ]
     },
     "metadata": {},
     "output_type": "display_data"
    }
   ],
   "source": [
    "display_as_image(gg)"
   ]
  },
  {
   "cell_type": "code",
   "execution_count": 238,
   "id": "fa538088-8768-465e-9d1c-a5c7ceec2e27",
   "metadata": {
    "execution": {
     "iopub.execute_input": "2023-12-10T16:41:23.085450Z",
     "iopub.status.busy": "2023-12-10T16:41:23.084451Z",
     "iopub.status.idle": "2023-12-10T16:41:23.105169Z",
     "shell.execute_reply": "2023-12-10T16:41:23.103167Z",
     "shell.execute_reply.started": "2023-12-10T16:41:23.085450Z"
    }
   },
   "outputs": [],
   "source": [
    "gg= change(gg)"
   ]
  },
  {
   "cell_type": "code",
   "execution_count": 279,
   "id": "b3ca9c6e-a4ed-4c4a-942e-9529cde7e959",
   "metadata": {
    "execution": {
     "iopub.execute_input": "2023-12-10T16:55:29.245022Z",
     "iopub.status.busy": "2023-12-10T16:55:29.243838Z",
     "iopub.status.idle": "2023-12-10T16:55:29.406489Z",
     "shell.execute_reply": "2023-12-10T16:55:29.405489Z",
     "shell.execute_reply.started": "2023-12-10T16:55:29.245022Z"
    }
   },
   "outputs": [
    {
     "name": "stdout",
     "output_type": "stream",
     "text": [
      "task2.txt has been written\n"
     ]
    }
   ],
   "source": [
    "write_text(gt,'task2.txt')"
   ]
  },
  {
   "cell_type": "code",
   "execution_count": 280,
   "id": "c088a001-23b3-4025-abd2-7c962c9dae29",
   "metadata": {
    "execution": {
     "iopub.execute_input": "2023-12-10T16:55:53.837410Z",
     "iopub.status.busy": "2023-12-10T16:55:53.836401Z",
     "iopub.status.idle": "2023-12-10T16:55:53.895697Z",
     "shell.execute_reply": "2023-12-10T16:55:53.892848Z",
     "shell.execute_reply.started": "2023-12-10T16:55:53.837410Z"
    }
   },
   "outputs": [],
   "source": [
    "fin = load_file('task2.txt')"
   ]
  },
  {
   "cell_type": "code",
   "execution_count": 281,
   "id": "419753f3-f654-42ad-b8f3-f93eaf87bb78",
   "metadata": {
    "execution": {
     "iopub.execute_input": "2023-12-10T16:55:55.917509Z",
     "iopub.status.busy": "2023-12-10T16:55:55.917509Z",
     "iopub.status.idle": "2023-12-10T16:55:55.967409Z",
     "shell.execute_reply": "2023-12-10T16:55:55.964412Z",
     "shell.execute_reply.started": "2023-12-10T16:55:55.917509Z"
    }
   },
   "outputs": [
    {
     "ename": "ValueError",
     "evalue": "setting an array element with a sequence. The requested array has an inhomogeneous shape after 1 dimensions. The detected shape was (407,) + inhomogeneous part.",
     "output_type": "error",
     "traceback": [
      "\u001b[1;31m---------------------------------------------------------------------------\u001b[0m",
      "\u001b[1;31mValueError\u001b[0m                                Traceback (most recent call last)",
      "Cell \u001b[1;32mIn[281], line 1\u001b[0m\n\u001b[1;32m----> 1\u001b[0m ff \u001b[38;5;241m=\u001b[39m \u001b[43mnp\u001b[49m\u001b[38;5;241;43m.\u001b[39;49m\u001b[43marray\u001b[49m\u001b[43m(\u001b[49m\u001b[43mfin\u001b[49m\u001b[43m)\u001b[49m\n",
      "\u001b[1;31mValueError\u001b[0m: setting an array element with a sequence. The requested array has an inhomogeneous shape after 1 dimensions. The detected shape was (407,) + inhomogeneous part."
     ]
    }
   ],
   "source": [
    "ff = np.array(fin)"
   ]
  },
  {
   "cell_type": "code",
   "execution_count": 247,
   "id": "395bab8e-552b-4ab7-a9e7-85b296b41700",
   "metadata": {
    "execution": {
     "iopub.execute_input": "2023-12-10T16:42:36.775680Z",
     "iopub.status.busy": "2023-12-10T16:42:36.773678Z",
     "iopub.status.idle": "2023-12-10T16:42:36.800727Z",
     "shell.execute_reply": "2023-12-10T16:42:36.798911Z",
     "shell.execute_reply.started": "2023-12-10T16:42:36.775680Z"
    }
   },
   "outputs": [
    {
     "data": {
      "text/plain": [
       "407"
      ]
     },
     "execution_count": 247,
     "metadata": {},
     "output_type": "execute_result"
    }
   ],
   "source": [
    "len(fin)"
   ]
  },
  {
   "cell_type": "code",
   "execution_count": 248,
   "id": "848d9307-e6cd-46e0-b8fd-3810148c1ac4",
   "metadata": {
    "execution": {
     "iopub.execute_input": "2023-12-10T16:42:40.663130Z",
     "iopub.status.busy": "2023-12-10T16:42:40.662130Z",
     "iopub.status.idle": "2023-12-10T16:42:40.786487Z",
     "shell.execute_reply": "2023-12-10T16:42:40.784602Z",
     "shell.execute_reply.started": "2023-12-10T16:42:40.663130Z"
    }
   },
   "outputs": [
    {
     "data": {
      "image/png": "[encoded data removed]",
      "text/plain": [
       "<Figure size 640x480 with 1 Axes>"
      ]
     },
     "metadata": {},
     "output_type": "display_data"
    }
   ],
   "source": [
    "display_as_image(gt)"
   ]
  },
  {
   "cell_type": "code",
   "execution_count": 249,
   "id": "6c6e0793-0d2a-48e6-973b-c1e2737e063f",
   "metadata": {
    "execution": {
     "iopub.execute_input": "2023-12-10T16:43:26.781190Z",
     "iopub.status.busy": "2023-12-10T16:43:26.780191Z",
     "iopub.status.idle": "2023-12-10T16:43:26.796851Z",
     "shell.execute_reply": "2023-12-10T16:43:26.794683Z",
     "shell.execute_reply.started": "2023-12-10T16:43:26.781190Z"
    }
   },
   "outputs": [
    {
     "data": {
      "text/plain": [
       "305"
      ]
     },
     "execution_count": 249,
     "metadata": {},
     "output_type": "execute_result"
    }
   ],
   "source": [
    "len(gt)\n"
   ]
  },
  {
   "cell_type": "code",
   "execution_count": 250,
   "id": "b3e105ef-85ef-419d-aa02-8469a8c57cd4",
   "metadata": {
    "execution": {
     "iopub.execute_input": "2023-12-10T16:43:31.233452Z",
     "iopub.status.busy": "2023-12-10T16:43:31.232453Z",
     "iopub.status.idle": "2023-12-10T16:43:31.248451Z",
     "shell.execute_reply": "2023-12-10T16:43:31.246656Z",
     "shell.execute_reply.started": "2023-12-10T16:43:31.233452Z"
    }
   },
   "outputs": [
    {
     "data": {
      "text/plain": [
       "601"
      ]
     },
     "execution_count": 250,
     "metadata": {},
     "output_type": "execute_result"
    }
   ],
   "source": [
    "len(gt[0])"
   ]
  },
  {
   "cell_type": "code",
   "execution_count": 251,
   "id": "07686b09-ddd6-4137-bdde-a35812cb1ffe",
   "metadata": {
    "execution": {
     "iopub.execute_input": "2023-12-10T16:43:33.978546Z",
     "iopub.status.busy": "2023-12-10T16:43:33.977545Z",
     "iopub.status.idle": "2023-12-10T16:43:33.994112Z",
     "shell.execute_reply": "2023-12-10T16:43:33.992112Z",
     "shell.execute_reply.started": "2023-12-10T16:43:33.978546Z"
    }
   },
   "outputs": [
    {
     "data": {
      "text/plain": [
       "601"
      ]
     },
     "execution_count": 251,
     "metadata": {},
     "output_type": "execute_result"
    }
   ],
   "source": [
    "len(gt[1])"
   ]
  },
  {
   "cell_type": "code",
   "execution_count": 252,
   "id": "d6bf1dc1-433d-4f44-a947-51ad929db2ab",
   "metadata": {
    "execution": {
     "iopub.execute_input": "2023-12-10T16:43:41.970714Z",
     "iopub.status.busy": "2023-12-10T16:43:41.969713Z",
     "iopub.status.idle": "2023-12-10T16:43:41.983037Z",
     "shell.execute_reply": "2023-12-10T16:43:41.981014Z",
     "shell.execute_reply.started": "2023-12-10T16:43:41.970714Z"
    }
   },
   "outputs": [
    {
     "ename": "SyntaxError",
     "evalue": "closing parenthesis ']' does not match opening parenthesis '(' (2891900450.py, line 1)",
     "output_type": "error",
     "traceback": [
      "\u001b[1;36m  Cell \u001b[1;32mIn[252], line 1\u001b[1;36m\u001b[0m\n\u001b[1;33m    len(gt[2]])\u001b[0m\n\u001b[1;37m             ^\u001b[0m\n\u001b[1;31mSyntaxError\u001b[0m\u001b[1;31m:\u001b[0m closing parenthesis ']' does not match opening parenthesis '('\n"
     ]
    }
   ],
   "source": [
    "len(gt[2]])"
   ]
  },
  {
   "cell_type": "code",
   "execution_count": 253,
   "id": "3366a104-9058-4a65-b5d1-12b1ad0834ff",
   "metadata": {
    "execution": {
     "iopub.execute_input": "2023-12-10T16:43:45.076628Z",
     "iopub.status.busy": "2023-12-10T16:43:45.075630Z",
     "iopub.status.idle": "2023-12-10T16:43:45.101666Z",
     "shell.execute_reply": "2023-12-10T16:43:45.099862Z",
     "shell.execute_reply.started": "2023-12-10T16:43:45.076628Z"
    }
   },
   "outputs": [
    {
     "data": {
      "text/plain": [
       "601"
      ]
     },
     "execution_count": 253,
     "metadata": {},
     "output_type": "execute_result"
    }
   ],
   "source": [
    "len(gt[3])"
   ]
  },
  {
   "cell_type": "code",
   "execution_count": 254,
   "id": "aca7db02-cc55-4542-993e-edfae482edba",
   "metadata": {
    "execution": {
     "iopub.execute_input": "2023-12-10T16:43:49.364803Z",
     "iopub.status.busy": "2023-12-10T16:43:49.362803Z",
     "iopub.status.idle": "2023-12-10T16:43:49.391342Z",
     "shell.execute_reply": "2023-12-10T16:43:49.389347Z",
     "shell.execute_reply.started": "2023-12-10T16:43:49.364803Z"
    }
   },
   "outputs": [
    {
     "data": {
      "text/plain": [
       "601"
      ]
     },
     "execution_count": 254,
     "metadata": {},
     "output_type": "execute_result"
    }
   ],
   "source": [
    "len(gt[4])"
   ]
  },
  {
   "cell_type": "code",
   "execution_count": 255,
   "id": "671fd812-8950-46d3-8ea8-2819597e8f2c",
   "metadata": {
    "execution": {
     "iopub.execute_input": "2023-12-10T16:43:53.943403Z",
     "iopub.status.busy": "2023-12-10T16:43:53.942402Z",
     "iopub.status.idle": "2023-12-10T16:43:53.958903Z",
     "shell.execute_reply": "2023-12-10T16:43:53.956880Z",
     "shell.execute_reply.started": "2023-12-10T16:43:53.943403Z"
    }
   },
   "outputs": [
    {
     "data": {
      "text/plain": [
       "601"
      ]
     },
     "execution_count": 255,
     "metadata": {},
     "output_type": "execute_result"
    }
   ],
   "source": [
    "len(gt[0])"
   ]
  },
  {
   "cell_type": "code",
   "execution_count": 256,
   "id": "c0803bbf-cbd9-4be9-b339-d4f340f16f03",
   "metadata": {
    "execution": {
     "iopub.execute_input": "2023-12-10T16:44:56.582460Z",
     "iopub.status.busy": "2023-12-10T16:44:56.580444Z",
     "iopub.status.idle": "2023-12-10T16:44:56.603773Z",
     "shell.execute_reply": "2023-12-10T16:44:56.600773Z",
     "shell.execute_reply.started": "2023-12-10T16:44:56.582460Z"
    }
   },
   "outputs": [
    {
     "ename": "SyntaxError",
     "evalue": "invalid syntax (1664660028.py, line 1)",
     "output_type": "error",
     "traceback": [
      "\u001b[1;36m  Cell \u001b[1;32mIn[256], line 1\u001b[1;36m\u001b[0m\n\u001b[1;33m    plot(1:len(gt),[len(row) for row in gt])\u001b[0m\n\u001b[1;37m          ^\u001b[0m\n\u001b[1;31mSyntaxError\u001b[0m\u001b[1;31m:\u001b[0m invalid syntax\n"
     ]
    }
   ],
   "source": [
    "plot(1:len(gt),[len(row) for row in gt])"
   ]
  },
  {
   "cell_type": "code",
   "execution_count": null,
   "id": "8c818582-0b79-4200-8131-b2214f244c0d",
   "metadata": {},
   "outputs": [],
   "source": [
    "plot(list(range(len(gt))),[len(row) for row in gt])"
   ]
  },
  {
   "cell_type": "code",
   "execution_count": null,
   "id": "cadc256c-661a-4474-a03d-c76fe62348e1",
   "metadata": {},
   "outputs": [],
   "source": [
    "plt.plot(1:len(gt),[len(row) for row in gt])"
   ]
  },
  {
   "cell_type": "code",
   "execution_count": 259,
   "id": "df6f7d75-af0f-411a-a1fe-62d314be650a",
   "metadata": {
    "execution": {
     "iopub.execute_input": "2023-12-10T16:45:58.411663Z",
     "iopub.status.busy": "2023-12-10T16:45:58.409667Z",
     "iopub.status.idle": "2023-12-10T16:45:58.748703Z",
     "shell.execute_reply": "2023-12-10T16:45:58.746705Z",
     "shell.execute_reply.started": "2023-12-10T16:45:58.411663Z"
    }
   },
   "outputs": [
    {
     "data": {
      "text/plain": [
       "[<matplotlib.lines.Line2D at 0x19ad5775300>]"
      ]
     },
     "execution_count": 259,
     "metadata": {},
     "output_type": "execute_result"
    },
    {
     "data": {
      "image/png": "[encoded data removed]",
      "text/plain": [
       "<Figure size 640x480 with 1 Axes>"
      ]
     },
     "metadata": {},
     "output_type": "display_data"
    }
   ],
   "source": [
    "plt.plot(list(range(len(gt))),[len(row) for row in gt])"
   ]
  },
  {
   "cell_type": "code",
   "execution_count": null,
   "id": "728e83e6-e563-4af1-98f1-cf4db080828e",
   "metadata": {},
   "outputs": [],
   "source": [
    "fin[0]\n"
   ]
  },
  {
   "cell_type": "code",
   "execution_count": null,
   "id": "0ee6a774-860d-4581-ba6d-9cbb881546e8",
   "metadata": {},
   "outputs": [],
   "source": [
    "fin[1]"
   ]
  },
  {
   "cell_type": "code",
   "execution_count": null,
   "id": "64c666ef-51ec-4bd9-86ee-03be4053b3d8",
   "metadata": {},
   "outputs": [],
   "source": [
    "display_as_image(fin)"
   ]
  },
  {
   "cell_type": "code",
   "execution_count": 269,
   "id": "29b2ee58-f80c-4602-9441-7faafe999473",
   "metadata": {
    "execution": {
     "iopub.execute_input": "2023-12-10T16:52:50.128902Z",
     "iopub.status.busy": "2023-12-10T16:52:50.127390Z",
     "iopub.status.idle": "2023-12-10T16:52:50.246154Z",
     "shell.execute_reply": "2023-12-10T16:52:50.243129Z",
     "shell.execute_reply.started": "2023-12-10T16:52:50.128902Z"
    }
   },
   "outputs": [
    {
     "data": {
      "image/png": "[encoded data removed]",
      "text/plain": [
       "<Figure size 640x480 with 1 Axes>"
      ]
     },
     "metadata": {},
     "output_type": "display_data"
    }
   ],
   "source": [
    "display_as_image(gt)"
   ]
  },
  {
   "cell_type": "code",
   "execution_count": 272,
   "id": "59a277bb-8be2-463a-8842-95e15c0d2286",
   "metadata": {
    "execution": {
     "iopub.execute_input": "2023-12-10T16:53:16.025578Z",
     "iopub.status.busy": "2023-12-10T16:53:16.024562Z",
     "iopub.status.idle": "2023-12-10T16:53:16.073823Z",
     "shell.execute_reply": "2023-12-10T16:53:16.070900Z",
     "shell.execute_reply.started": "2023-12-10T16:53:16.025578Z"
    }
   },
   "outputs": [
    {
     "ename": "AttributeError",
     "evalue": "'str' object has no attribute 'tolist'",
     "output_type": "error",
     "traceback": [
      "\u001b[1;31m---------------------------------------------------------------------------\u001b[0m",
      "\u001b[1;31mAttributeError\u001b[0m                            Traceback (most recent call last)",
      "Cell \u001b[1;32mIn[272], line 1\u001b[0m\n\u001b[1;32m----> 1\u001b[0m \u001b[43mwrite_data\u001b[49m\u001b[43m(\u001b[49m\u001b[38;5;124;43m'\u001b[39;49m\u001b[38;5;124;43mtask3.txt\u001b[39;49m\u001b[38;5;124;43m'\u001b[39;49m\u001b[43m)\u001b[49m\n",
      "File \u001b[1;32m<timed exec>:14\u001b[0m, in \u001b[0;36mwrite_data\u001b[1;34m(new_arr, f)\u001b[0m\n",
      "\u001b[1;31mAttributeError\u001b[0m: 'str' object has no attribute 'tolist'"
     ]
    }
   ],
   "source": [
    "write_data('task3.txt')"
   ]
  },
  {
   "cell_type": "code",
   "execution_count": 273,
   "id": "3b98eb4d-b04a-4473-907a-5e660f4ee976",
   "metadata": {
    "execution": {
     "iopub.execute_input": "2023-12-10T16:53:32.548876Z",
     "iopub.status.busy": "2023-12-10T16:53:32.547877Z",
     "iopub.status.idle": "2023-12-10T16:53:32.756287Z",
     "shell.execute_reply": "2023-12-10T16:53:32.754291Z",
     "shell.execute_reply.started": "2023-12-10T16:53:32.548876Z"
    }
   },
   "outputs": [
    {
     "name": "stdout",
     "output_type": "stream",
     "text": [
      "task3.txt has been written\n"
     ]
    }
   ],
   "source": [
    "write_data(gt,'task3.txt')"
   ]
  },
  {
   "cell_type": "code",
   "execution_count": null,
   "id": "8e037b30-e502-433f-b7db-d146f41b2b2b",
   "metadata": {},
   "outputs": [],
   "source": []
  }
 ],
 "metadata": {
  "kernelspec": {
   "display_name": "Python 3 (ipykernel)",
   "language": "python",
   "name": "python3"
  },
  "language_info": {
   "codemirror_mode": {
    "name": "ipython",
    "version": 3
   },
   "file_extension": ".py",
   "mimetype": "text/x-python",
   "name": "python",
   "nbconvert_exporter": "python",
   "pygments_lexer": "ipython3",
   "version": "3.10.11"
  }
 },
 "nbformat": 4,
 "nbformat_minor": 5
}
