{
 "cells": [
  {
   "cell_type": "markdown",
   "id": "955f7195",
   "metadata": {},
   "source": [
    "# <a id='toc1_'></a>[COMP712 Classical Artificial Intelligence](#toc0_)\n",
    "\n",
    "# <a id='toc2_'></a>[Workshop: Data Science using Python](#toc0_)\n",
    "\n",
    "Dr Daniel Zhang @ Falmouth University\\\n",
    "2023-2024 Study Block 1\n",
    "\n",
    "<div id=\"top\"></div>"
   ]
  },
  {
   "cell_type": "markdown",
   "id": "17cd44eb",
   "metadata": {},
   "source": [
    "# Table of contents<a id='top'></a><a id='toc0_'></a>    \n",
    "- [COMP712 Classical Artificial Intelligence](#toc1_)    \n",
    "- [Workshop: Data Science using Python](#toc2_)    \n",
    "- [<a id='toc0_'></a>](#toc3_)    \n",
    "  - [Introduction](#toc3_1_)    \n",
    "  - [Jupyter Notebook Basics](#toc3_2_)    \n",
    "- [The Notebook Elements](#toc4_)    \n",
    "  - [The Main Toolbar](#toc4_1_)    \n",
    "  - [Cell Types](#toc4_2_)    \n",
    "    - [Code Cells](#toc4_2_1_)    \n",
    "    - [Markdown Cell](#toc4_2_2_)    \n",
    "    - [Raw Cell](#toc4_2_3_)    \n",
    "- [Working with `NumPy` and `Matplotlib`](#toc5_)    \n",
    "  - [Task 1: Array manipulation](#toc5_1_)    \n",
    "  - [Taks 2: Plot the first 10 rows of your matrix](#toc5_2_)    \n",
    "  - [Task 3: Implement the Game of Life](#toc5_3_)    \n",
    "  - [Task 4: The magic square](#toc5_4_)    \n",
    "- [Note](#toc6_)    \n",
    "\n",
    "<!-- vscode-jupyter-toc-config\n",
    "\tnumbering=false\n",
    "\tanchor=true\n",
    "\tflat=false\n",
    "\tminLevel=1\n",
    "\tmaxLevel=6\n",
    "\t/vscode-jupyter-toc-config -->\n",
    "<!-- THIS CELL WILL BE REPLACED ON TOC UPDATE. DO NOT WRITE YOUR TEXT IN THIS CELL -->"
   ]
  },
  {
   "cell_type": "markdown",
   "id": "e42aa047",
   "metadata": {},
   "source": [
    "## <a id='toc3_1_'></a>[Introduction](#toc0_)\n",
    "\n",
    "[Top](#top)\n",
    "\n",
    "Welcome to this comprehensive workshop on Data Science using Python! Once the notebook is launched successfully, it indicates that all the necessary prerequisites are met, and you're all set to begin!"
   ]
  },
  {
   "cell_type": "markdown",
   "id": "05113a40",
   "metadata": {},
   "source": [
    "## <a id='toc3_2_'></a>[Jupyter Notebook Basics](#toc0_)\n",
    "\n",
    "[Top](#top)"
   ]
  },
  {
   "cell_type": "markdown",
   "id": "fb6e3324",
   "metadata": {},
   "source": [
    "JupyterLab, the successor of Jupyter Notebook, is a powerful interactive development environment (IDE) that revolutionises the way we work with data, code, and visualisations. At its core, JupyterLab provides a flexible and user-friendly interface that combines various elements crucial for data analysis and scientific computing. \n",
    "\n",
    "JupyterLab provides an interactive notebook interface where you can write and execute code, add text explanations using markdown, and visualise results in real-time. This enables seamless transitions between various tasks, promoting a highly interactive and collaborative workflow.\n",
    "\n",
    "At the heart of JupyterLab lies the concept of kernels, which are computational engines responsible for executing code within notebooks. This architecture allows users to work with different programming languages within the same interface. Users can choose from various kernels, such as `Python`, `R`, `Julia`, and others, making JupyterLab a versatile environment for multi-language development and analysis. Overall, JupyterLab's simplicity, versatility, and integration of different tools make it an indispensable platform for data scientists, researchers, and educators seeking an intuitive yet powerful environment for data exploration and analysis."
   ]
  },
  {
   "cell_type": "markdown",
   "id": "65511bb8",
   "metadata": {},
   "source": [
    "# <a id='toc4_'></a>[The Notebook Elements](#toc0_)\n",
    "\n",
    "[Top](#top)\n",
    "\n",
    "After opening a notebook, the left file panel remains unchanged. The main area would be used for displaying the notebook's contents and interactions with the Python kernel.\n",
    "\n",
    "## <a id='toc4_1_'></a>[The Main Toolbar](#toc0_)\n",
    "\n",
    "[Top](#top)\n",
    "\n",
    "The JupyterLab main toolbar consists of buttons that provide quick access to essential functionalities, as shown below.\n",
    "\n",
    "![JupyterLab Toolbar Buttons](jupyterlab_toolbar.png)\n",
    "\n",
    "Here's an overview of some common toolbar buttons:\n",
    "\n",
    "1. `Save`: The floppy disk icon represents the \"Save\" button, allowing users to save changes made to the notebook. Clicking this button or using the shortcut <kbd>Ctrl + S</kbd> (or <kbd>Cmd + S</kbd> on Mac) saves the notebook.\n",
    "\n",
    "2. `Add Cell`: This button adds a new cell to the notebook. Clicking the \"<kbd>+</kbd>\" icon creates a new cell below the currently selected cell.\n",
    "\n",
    "3,4,5. `Cut`, `Copy`, `Paste`: The scissors, copy, and clipboard icons respectively perform cut, copy, and paste operations on cells within the notebook.\n",
    "\n",
    "6. `Run`: The \"Run\" button executes the code in the currently selected cell. Pressing this button or using <kbd>Shift + Enter</kbd> runs the cell and displays the output below the code cell.\n",
    "\n",
    "7. `Interrupt Kernel`: The square \"stop\" icon is used to interrupt or halt the execution of code cells. It stops the execution of a cell that's taking too long to run or is stuck in an infinite loop.\n",
    "\n",
    "8. `Restart Kernel`: The circular arrow icon restarts the kernel. Restarting the kernel resets the computational state, clearing all variables and previously executed code. Use this button cautiously, as it resets the notebook's memory.\n",
    "\n",
    "9. `Restart Kernel and Run All Cells`: The fast-forward icon restarts the kernel and executes all cells in the current notebook one after another. This button resets the notebook's memory as well.\n",
    "\n",
    "10. `Cell Type`: The dropdown menu allows users to change the cell type (`Code`, `Markdown`, and `Raw`) of the selected cell, which will be explained below in detail.\n",
    "\n",
    "\n",
    "There is a kernel status indicator area on the notebook's top-right corner. This indicator displays the status of the kernel (the computational engine) associated with the notebook. It shows whether the kernel is idle, busy executing code, or has encountered an error, as shown below.\n",
    "\n",
    "![Kernel Status](jupyterlab_kernel.png)"
   ]
  },
  {
   "cell_type": "markdown",
   "id": "fd30dfb9",
   "metadata": {},
   "source": [
    "## <a id='toc4_2_'></a>[Cell Types](#toc0_)\n",
    "\n",
    "[Top](#top)\n",
    "\n",
    "Inside the notebook, you'll find cells where you can write code or text. The current cell can be executed by pressing <kbd>Shift + Enter</kbd> or the `Run` button in the main toolbar. If you highlight one cell, some extra shortcut buttons will appear at the top-right corner of the cell for cell manipulation. These buttons can be used to move the current cell up or down, make a duplication of the cell, add a new cell above or below the current one, or delete the cell from the notebook.\n",
    "\n",
    "In JupyterLab, there are primarily three types of cells: `Code`, `Markdown`, and `Raw`."
   ]
  },
  {
   "cell_type": "markdown",
   "id": "b1d37b96",
   "metadata": {},
   "source": [
    "### <a id='toc4_2_1_'></a>[Code Cells](#toc0_)\n",
    "\n",
    "[Top](#top)\n",
    "\n",
    "These cells are used to write and execute code. When you enter Python, R, Julia, or any other supported language's code into a code cell, you can run it by pressing <kbd>Shift + Enter</kbd>. The output of the code appears directly below the cell. Code cells are where you perform computations, define functions, import libraries, and execute algorithms. They are the core components for interactive programming within Jupyter notebooks.\n",
    "\n",
    "For example, the following cell is a **`code`** cell that displays the information of your machine and operating system. \n",
    "\n",
    "> **Note**: the `%%time` is a useful magic command I used a lot personally. It can be placed as the first line of any `code cell` to measure the running time of the cell."
   ]
  },
  {
   "cell_type": "code",
   "execution_count": null,
   "id": "07068f48-7430-49b1-96cb-23a9f45bb695",
   "metadata": {},
   "outputs": [],
   "source": [
    "%%time\n",
    "\n",
    "import platform\n",
    "print('System information: ' + platform.machine() + '-' + platform.system()  + '-' + platform.version())"
   ]
  },
  {
   "cell_type": "markdown",
   "id": "00dd4424-dfe1-4edd-98c3-93e89781359c",
   "metadata": {},
   "source": [
    "> **Note**: The output of a cell can be removed by right-clicking on the cell and selecting `Clear Cell Output` from the pop-up menu items. Or you can clear all the output blocks in the current notebook by selecting `Clear Outputs of All Cells`."
   ]
  },
  {
   "cell_type": "markdown",
   "id": "291d888e",
   "metadata": {},
   "source": [
    "### <a id='toc4_2_2_'></a>[Markdown Cell](#toc0_)\n",
    "\n",
    "[Top](#top)\n",
    "\n",
    "Markdown cells are used for text explanations, formatted documentation, and commentary within the notebook. Markdown is a lightweight markup language that allows users to add formatted text, headings, lists, images, hyperlinks, and more. Users can create rich text content by applying simple syntax, making it a versatile tool for adding context, explanations, or instructions alongside code. For instance, most of this workshop materials are written in `Markdown` cells."
   ]
  },
  {
   "cell_type": "markdown",
   "id": "8f482e44",
   "metadata": {},
   "source": [
    "### <a id='toc4_2_3_'></a>[Raw Cell](#toc0_)\n",
    "\n",
    "[Top](#top)\n",
    "\n",
    "Raw cells are uncommonly used and are primarily used for storing unformatted text or content that should not be executed. Raw cells allow users to enter text that will be included in the notebook metadata but will not be formatted or executed as code or markdown. This feature might be useful for including raw data or annotations that don't require formatting. \n",
    "\n",
    "An example of a `Raw` cell is shown below. In practice, you might not use it very often, or at all, as the combination of `Code` and `Markdown` cells can already fulfil our requirements."
   ]
  },
  {
   "cell_type": "raw",
   "id": "b7e84981-2e4d-45c0-98c0-43b1a9b66f3b",
   "metadata": {},
   "source": [
    "This is a raw cell that will not be executed by the kernel."
   ]
  },
  {
   "cell_type": "markdown",
   "id": "3ee1357f",
   "metadata": {},
   "source": [
    "# <a id='toc5_'></a>[Working with `NumPy` and `Matplotlib`](#toc0_)\n",
    "\n",
    "[Top](#top)\n",
    "\n",
    "`NumPy` is the core library for scientific computing in Python. It provides high-performance arrays and matrices for efficient data manipulation. `Matplotlib` provides useful functions for data visualisations. As we already discussed their capabilities in the lecture session, some tasks are set up for you to practice. \n",
    "\n",
    "Let's import the relavent libraires first!"
   ]
  },
  {
   "cell_type": "code",
   "execution_count": null,
   "id": "298d8811-8c7a-4644-92da-8bec9f758978",
   "metadata": {},
   "outputs": [],
   "source": [
    "%%time \n",
    "\n",
    "# import numpy library \n",
    "import numpy as np \n",
    "print(f'NumPy version: {np.__version__}')\n",
    "\n",
    "# import matplotlib for visualisation, you'll be learning this later\n",
    "import matplotlib\n",
    "from matplotlib import pyplot as plt\n",
    "print(f'Matplotlib version: {matplotlib.__version__}')\n",
    "\n",
    "# import time and other modules\n",
    "import time\n",
    "from IPython.display import clear_output\n",
    "\n",
    "def animate_3d_mat(mat, t=0.1):\n",
    "    ''' display a 3D matrix as animation, each layer will be considered as an image frame (0.1 frame/sec)\n",
    "        mat: TxMxN matrix (ndarray in NumPy)\n",
    "        T: would be the time ticks\n",
    "    '''\n",
    "    if not isinstance(mat,np.ndarray):\n",
    "        mat = np.array(mat) \n",
    "    if mat.ndim != 3:\n",
    "        print(f'ERROR: the input must be a 3D matrix, current dimension = {mat.ndim}')\n",
    "        return \n",
    "    for layer in mat: \n",
    "        clear_output(wait=True)\n",
    "        display_as_image(layer)\n",
    "        if t>0:\n",
    "            time.sleep(t)\n",
    "\n",
    "def is_2d_array(arr):\n",
    "    ''' return true if the input is a 2D array of python list of list '''\n",
    "    if not isinstance(arr, np.ndarray) and not isinstance(arr,list):\n",
    "        print('ERROR: the input must be either NumPy ndarray or Python 2D list')\n",
    "        return False\n",
    "    if isinstance(arr, np.ndarray) and arr.ndim != 2:\n",
    "        print(f'ERROR: the input NumPy array must be a 2D array, current dim = {arr.ndim}')\n",
    "        return False\n",
    "    if isinstance(arr, list):\n",
    "        if len(arr) == 0:\n",
    "            return False\n",
    "        if not isinstance(arr[0], list):\n",
    "            print(f'ERROR: the input Python list must be a list of list')\n",
    "            return False\n",
    "    return True\n",
    "\n",
    "def print_data(arr):\n",
    "    ''' print numpy array and python list raw data separated by space  '''\n",
    "    if not is_2d_array(arr):\n",
    "        return \n",
    "    for row in arr:\n",
    "        for col in row:\n",
    "            print(f'{col}\\t', end=' ')\n",
    "        print()\n",
    "\n",
    "def print_text(arr): \n",
    "    ''' print numpy array and python list data as text without space '''\n",
    "    if not is_2d_array(arr):\n",
    "        return \n",
    "    for row in arr:\n",
    "        print(''.join([chr(c) for c in row]))\n",
    "\n",
    "def display_as_image(arr): \n",
    "    ''' display a 2D array as image '''\n",
    "    if not is_2d_array(arr):\n",
    "        return\n",
    "    arr = np.array(arr)\n",
    "    plt.imshow(arr)\n",
    "    plt.axis('off')\n",
    "    plt.show()"
   ]
  },
  {
   "cell_type": "markdown",
   "id": "26937ee2",
   "metadata": {},
   "source": [
    "## <a id='toc5_1_'></a>[Task 1: Array manipulation](#toc0_)\n",
    "\n",
    "Create a 2D array with random integers and sort each row in ascending order.\n",
    "Concatenate two arrays vertically and horizontally."
   ]
  },
  {
   "cell_type": "code",
   "execution_count": null,
   "id": "016a913e-6f35-4a0d-846a-d609dd3527b0",
   "metadata": {},
   "outputs": [],
   "source": [
    "%%time\n",
    "\n",
    "# YOUR CODE HERE\n",
    "\n",
    "# create a 2D array with random integers\n",
    "\n",
    "# sorting each row in ascending order\n",
    "\n",
    "# concatenate two arrays vertically\n",
    "\n",
    "# horizontally\n",
    "\n",
    "# and as layers in the third dimension\n"
   ]
  },
  {
   "cell_type": "markdown",
   "id": "c78f6cd6",
   "metadata": {},
   "source": [
    "## <a id='toc5_2_'></a>[Taks 2: Plot the first 10 rows of your matrix](#toc0_)\n",
    "\n",
    "Now, make use of the matrix (or 2D array) you created in the last task since all variables created in the notebook are available during the session. They will be ready to use unless the kernel is restarted. Plot the first 10 rows in the same plot."
   ]
  },
  {
   "cell_type": "code",
   "execution_count": null,
   "id": "7b99e5e7-120d-4f35-a870-2bd95062a252",
   "metadata": {},
   "outputs": [],
   "source": [
    "%%time \n",
    "\n",
    "# YOUR CODE HERE\n",
    "\n",
    "# create a 2D integer matrix of size 50x100\n",
    "\n",
    "# sort the rows according to the columns, if the 1st column is equal, then compare the 2nd, 3rd, and so on\n",
    "\n",
    "# plot the first 10 rows on the same plot"
   ]
  },
  {
   "cell_type": "markdown",
   "id": "5f3d8483",
   "metadata": {},
   "source": [
    "\n",
    "## <a id='toc5_3_'></a>[Task 3: Implement the Game of Life](#toc0_)\n",
    "\n",
    "Implement the Game of Life on a 50x100 grid board using NumPy arrays and the rules of the game to simulate cell evolution over 60 generations (increase the number of generations if you like)."
   ]
  },
  {
   "cell_type": "markdown",
   "id": "4a56d055-0cc5-4b9a-b58d-2f1abc45f6f5",
   "metadata": {},
   "source": [
    "**The Rules** \n",
    "\n",
    "The universe of the Game of Life is an infinite, two-dimensional orthogonal grid of square cells, each of which is in one of two possible states, live or dead (or populated and unpopulated, respectively). Every cell interacts with its eight neighbours, which are the cells that are horizontally, vertically, or diagonally adjacent. At each step in time, the following transitions occur:\n",
    "\n",
    "- Any live cell with fewer than two live neighbours dies, as if by underpopulation.\n",
    "- Any live cell with two or three live neighbours lives on to the next generation.\n",
    "- Any live cell with more than three live neighbours dies, as if by overpopulation.\n",
    "- Any dead cell with exactly three live neighbours becomes a live cell, as if by reproduction.\n",
    "\n",
    "The initial pattern constitutes the seed of the system. The first generation is created by applying the above rules simultaneously to every cell in the seed, live or dead; births and deaths occur simultaneously, and the discrete moment at which this happens is sometimes called a tick. Each generation is a pure function of the preceding one. The rules continue to be applied repeatedly to create further generations."
   ]
  },
  {
   "cell_type": "markdown",
   "id": "576e6e28-47d2-4c48-be23-90f19c5afe0e",
   "metadata": {},
   "source": [
    "Check [[**the Wiki papge**](https://www.wikiwand.com/en/Conway%27s_Game_of_Life)] for more information)"
   ]
  },
  {
   "cell_type": "code",
   "execution_count": null,
   "id": "099583a9-3878-4ecb-bba6-6883b6fea2a3",
   "metadata": {},
   "outputs": [],
   "source": [
    "%%time\n",
    "\n",
    "# define the parameters\n",
    "T, M, N = 60, 50, 100\n",
    "mat = np.zeros((T,M,N))\n",
    "\n",
    "# YOUR CODE HERE, fill the 3D matrix mat\n",
    "\n",
    "# animate the generations layer by layer\n",
    "animate_3d_mat(mat,0.1)"
   ]
  },
  {
   "cell_type": "markdown",
   "id": "3bc1ccb9",
   "metadata": {},
   "source": [
    "Challenge yourself to explore additional initial states that enable the Game of Life to run infinitely."
   ]
  },
  {
   "cell_type": "markdown",
   "id": "7b9ff464",
   "metadata": {},
   "source": [
    "## <a id='toc5_4_'></a>[Task 4: The magic square](#toc0_)\n",
    "\n",
    "[Top](#top)\n",
    "\n",
    "A square matrix with positive integers between `1 - N` is a magic square if the sums of the numbers in each row, each column, and both main diagonals are the same. For example, the `3x3` magic square shown below has the sum of 15 for each row, column, and two diagonals. The size sometime is called its `order`.\n",
    "\n",
    "```python\n",
    "    2 7 6\n",
    "    9 5 1\n",
    "    3 4 8\n",
    "```\n",
    "\n",
    "The concept of the 3x3 magic square traces back to ancient China, as early as 650 BCE, documented in the legend of the ***Lo Shu*** (洛书) or the \"***scroll of the river Lo***\". Legend has it that during an ancient flood in China, King Yu endeavoured to divert the water. During this time, a turtle emerged from the floodwaters, bearing an intriguing pattern on its shell: a 3×3 grid with circular dots of numbers. The arrangement was such that the sum of numbers in each row, column, and diagonal equalled the magical number 15, as shown below.\n",
    "\n",
    "\n",
    "![Luo Shu](https://upload.wikimedia.org/wikipedia/commons/e/e2/Magic_square_Lo_Shu.png)\n",
    "\n",
    "Chinese mathematicians were familiar with the third-order magic square as early as 190 BCE. This marks the earliest recorded instance of a magic square in human history.\n",
    "\n",
    "Create a function that returns the magic square of given size `N`. The `sum` or the *magic number* `M` can be calculated using the equation: \n",
    "\n",
    "```latex\n",
    "M = n(n^2+1)/2\n",
    "```"
   ]
  },
  {
   "cell_type": "code",
   "execution_count": null,
   "id": "a0570309",
   "metadata": {},
   "outputs": [],
   "source": [
    "%%time \n",
    "\n",
    "def magic_square(n):\n",
    "    ''' generate a magic square of size n with magic number n(n^2+1)/2\n",
    "        return empty matrix if n < 2 \n",
    "    '''\n",
    "\n",
    "    # YOUR CODE HERE\n",
    "    \n",
    "    return np.array([[2,7,6],[9,5,1],[3,4,8]])\n",
    "\n",
    "# show the magic square\n",
    "N = 3\n",
    "m = magic_square(N)\n",
    "print_data(m)"
   ]
  },
  {
   "cell_type": "markdown",
   "id": "80c3ff43",
   "metadata": {},
   "source": [
    "## Task 5: Plotting the Monte Carlo `pi`\n",
    "\n",
    "[Top](#top)\n",
    "\n",
    "Using `matplotlib` to simulate the calculation of `pi` using Monte Carlo method. This is a very simple mathematical process so you can focus on the plotting capabilities of `matplotlib`. \n",
    "\n",
    "![Monte Carlo Calculation of PI](https://upload.wikimedia.org/wikipedia/commons/thumb/d/d4/Pi_monte_carlo_all.gif/406px-Pi_monte_carlo_all.gif)"
   ]
  },
  {
   "cell_type": "code",
   "execution_count": null,
   "id": "010e3ff5",
   "metadata": {},
   "outputs": [],
   "source": [
    "%%time\n",
    "\n",
    "# YOUR CODE HERE"
   ]
  },
  {
   "cell_type": "markdown",
   "id": "43489363",
   "metadata": {},
   "source": [
    "# <a id='toc6_'></a>[Note](#toc0_)\n",
    "\n",
    "No submission is required for this workshop."
   ]
  }
 ],
 "metadata": {
  "kernelspec": {
   "display_name": "Python 3 (ipykernel)",
   "language": "python",
   "name": "python3"
  },
  "language_info": {
   "codemirror_mode": {
    "name": "ipython",
    "version": 3
   },
   "file_extension": ".py",
   "mimetype": "text/x-python",
   "name": "python",
   "nbconvert_exporter": "python",
   "pygments_lexer": "ipython3",
   "version": "3.10.11"
  }
 },
 "nbformat": 4,
 "nbformat_minor": 5
}
