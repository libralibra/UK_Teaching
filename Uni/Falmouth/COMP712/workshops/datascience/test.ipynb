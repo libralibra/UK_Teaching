{
 "cells": [
  {
   "cell_type": "markdown",
   "id": "34622f9c-cd9a-4f3f-9a64-ff4a52394462",
   "metadata": {},
   "source": [
    "# Python Workshop"
   ]
  },
  {
   "cell_type": "markdown",
   "id": "05845901-a284-4c2b-86f4-389387376320",
   "metadata": {},
   "source": [
    "## Installing Python"
   ]
  },
  {
   "cell_type": "markdown",
   "id": "01f529b8-0ded-4fd9-a294-fe1b0bc47500",
   "metadata": {
    "execution": {
     "iopub.execute_input": "2023-11-20T11:51:57.164257Z",
     "iopub.status.busy": "2023-11-20T11:51:57.163267Z",
     "iopub.status.idle": "2023-11-20T11:51:57.170852Z",
     "shell.execute_reply": "2023-11-20T11:51:57.169300Z",
     "shell.execute_reply.started": "2023-11-20T11:51:57.164257Z"
    }
   },
   "source": [
    "## Running Python"
   ]
  },
  {
   "cell_type": "markdown",
   "id": "e62fd732-d1da-4b5c-abd8-90f8e5c39935",
   "metadata": {
    "execution": {
     "iopub.execute_input": "2023-11-20T11:53:05.414825Z",
     "iopub.status.busy": "2023-11-20T11:53:05.413814Z",
     "iopub.status.idle": "2023-11-20T11:53:05.421875Z",
     "shell.execute_reply": "2023-11-20T11:53:05.420768Z",
     "shell.execute_reply.started": "2023-11-20T11:53:05.414825Z"
    }
   },
   "source": [
    "## Start Coding in Python"
   ]
  },
  {
   "cell_type": "code",
   "execution_count": 1,
   "id": "07068f48-7430-49b1-96cb-23a9f45bb695",
   "metadata": {
    "execution": {
     "iopub.execute_input": "2023-11-20T11:48:01.763928Z",
     "iopub.status.busy": "2023-11-20T11:48:01.762924Z",
     "iopub.status.idle": "2023-11-20T11:48:01.772482Z",
     "shell.execute_reply": "2023-11-20T11:48:01.771474Z",
     "shell.execute_reply.started": "2023-11-20T11:48:01.763928Z"
    }
   },
   "outputs": [
    {
     "name": "stdout",
     "output_type": "stream",
     "text": [
      "AMD64-Windows-10.0.22621\n"
     ]
    }
   ],
   "source": [
    "import platform\n",
    "print(platform.machine() + '-' + platform.system()  + '-' + platform.version())"
   ]
  },
  {
   "cell_type": "code",
   "execution_count": null,
   "id": "5ee2cfec-f80b-4b67-8aa1-1473aca989eb",
   "metadata": {},
   "outputs": [],
   "source": []
  }
 ],
 "metadata": {
  "kernelspec": {
   "display_name": "Python 3 (ipykernel)",
   "language": "python",
   "name": "python3"
  },
  "language_info": {
   "codemirror_mode": {
    "name": "ipython",
    "version": 3
   },
   "file_extension": ".py",
   "mimetype": "text/x-python",
   "name": "python",
   "nbconvert_exporter": "python",
   "pygments_lexer": "ipython3",
   "version": "3.12.0"
  }
 },
 "nbformat": 4,
 "nbformat_minor": 5
}
