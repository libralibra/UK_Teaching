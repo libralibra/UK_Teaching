{
 "cells": [
  {
   "cell_type": "markdown",
   "id": "468174e4",
   "metadata": {},
   "source": [
    "![Games Academy](../../../../Falmouth/common/ga_uni_logo.png)\n",
    "\n",
    "# <a id='toc1_'></a>[COMP712 Classical Artificial Intelligence](#toc0_)\n",
    "\n",
    "# <a id='toc2_'></a>[Workshop: Data Science using Python](#toc0_)\n",
    "\n",
    "Dr Daniel Zhang @ Falmouth University\\\n",
    "2023-2024 Study Block 1\n",
    "\n",
    "<div id=\"top\"></div>"
   ]
  },
  {
   "cell_type": "markdown",
   "id": "35aa1978",
   "metadata": {},
   "source": [
    "# Table of contents<a id='top'></a><a id='toc0_'></a>    \n",
    "- [COMP712 Classical Artificial Intelligence](#toc1_)    \n",
    "- [Workshop: Data Science using Python](#toc2_)    \n",
    "- [](#toc3_)    \n",
    "  - [Introduction](#toc3_1_)    \n",
    "  - [Preparation](#toc3_2_)    \n",
    "  - [Start Coding in Python](#toc3_3_)    \n",
    "- [Test TOC](#toc4_)    \n",
    "\n",
    "<!-- vscode-jupyter-toc-config\n",
    "\tnumbering=false\n",
    "\tanchor=true\n",
    "\tflat=false\n",
    "\tminLevel=1\n",
    "\tmaxLevel=6\n",
    "\t/vscode-jupyter-toc-config -->\n",
    "<!-- THIS CELL WILL BE REPLACED ON TOC UPDATE. DO NOT WRITE YOUR TEXT IN THIS CELL -->"
   ]
  },
  {
   "cell_type": "markdown",
   "id": "9fd91857",
   "metadata": {},
   "source": [
    "## <a id='toc3_1_'></a>[Introduction](#toc0_)\n",
    "\n",
    "[Top](#top)\n",
    "\n",
    "Welcome to this comprehensive workshop on Data Science using Python!\n",
    "\n",
    "In this session, we'll delve into the essential Python libraries for scientific computation and machine learning: `NumPy`, `Matplotlib`, and `Pandas`. These powerful tools will empower us to handle data manipulation, visualisation, and analysis, laying the foundation for building sophisticated machine learning models.\n",
    "\n",
    "Apart from familiarising yourselves with these libraries, you will write your code in `JupyterLab` - the integrated interactive development environment."
   ]
  },
  {
   "cell_type": "markdown",
   "id": "01a2e6a3",
   "metadata": {},
   "source": [
    "## <a id='toc3_2_'></a>[Preparation](#toc0_)\n",
    "\n",
    "[Top](#top)\n",
    "\n",
    "To work with Jupyter notebook, I would assume you have all the necessary libraries and tools installed successfully. For instance, you should have the following libraries on the machine you are working on:\n",
    "\n",
    "- `python`\n",
    "- `numpy`\n",
    "- `matplotlib`\n",
    "- `scipy`\n",
    "- `pandas`\n",
    "\n",
    "If any of the software or libraries are not installed, please follow the instructions below to get them installed. \n",
    "\n",
    "0. install python from [Python Website](https://www.python.org/)\n",
    "\n",
    "1. Use Python's package manager, `pip`, to install the required libraries. Open your terminal or command prompt and run the following command:\n",
    "\n",
    " ```bash\n",
    "    pip install numpy\n",
    "    pip install matplotlib\n",
    "    pip install scipy\n",
    "    pip install pandas\n",
    "```\n",
    "\n",
    "2. You can also combine them together as one command as:\n",
    "\n",
    "```bash\n",
    "   pip install numpy matplotlib scipy pandas\n",
    "```\n",
    "\n",
    "3. And, more importantly, install `JupyterLab` using the command:\n",
    "   \n",
    "```bash\n",
    "   pip install jupyterlab\n",
    "```\n",
    "\n",
    "4. If `JupyterLab` has been installed properly, you have two options to run the notebook:\n",
    "   \n",
    "   1. Start a command window and type \n",
    "   ```bash\n",
    "      jupyter lab\n",
    "   ```\n",
    "    , which will initiate the jupyter server and automatically open a browser to the current working folder.\n",
    "   \n",
    "   2. Run the notebook directly within Visual Studio Code, utilising the Jupyter extension that supports notebook editing and previewing.\n"
   ]
  },
  {
   "cell_type": "markdown",
   "id": "9f22a079",
   "metadata": {},
   "source": [
    "1. install python from [Python Website](https://www.python.org/)\n",
    "2. install the required libraries\n",
    "   ```\n",
    "   pip install numpy\n",
    "   pip install matplotlib\n",
    "   pip install scipy\n",
    "   pip install pandas\n",
    "   ```\n",
    "3. and more importantly, install `JupyterLab` using the command:\n",
    "   `pip install jupyterlab`. If `JupyterLab` has been installed properly, you have 2 choices to run the notebook:\n",
    "\n",
    "   1. start a command window and type `jupyter lab`, which will start the server and open a browser to the current working folder automatically.\n",
    "   2. run the notebook directly within Visual Studio Code, which has the `Jupyter` extension to support notebook editing."
   ]
  },
  {
   "cell_type": "markdown",
   "id": "5e7dc837",
   "metadata": {},
   "source": [
    "## <a id='toc3_3_'></a>[Start Coding in Python](#toc0_)"
   ]
  },
  {
   "cell_type": "code",
   "execution_count": 2,
   "id": "07068f48-7430-49b1-96cb-23a9f45bb695",
   "metadata": {
    "execution": {
     "iopub.execute_input": "2023-11-20T11:48:01.763928Z",
     "iopub.status.busy": "2023-11-20T11:48:01.762924Z",
     "iopub.status.idle": "2023-11-20T11:48:01.772482Z",
     "shell.execute_reply": "2023-11-20T11:48:01.771474Z",
     "shell.execute_reply.started": "2023-11-20T11:48:01.763928Z"
    }
   },
   "outputs": [
    {
     "name": "stdout",
     "output_type": "stream",
     "text": [
      "AMD64-Windows-10.0.22621\n",
      "CPU times: total: 0 ns\n",
      "Wall time: 0 ns\n"
     ]
    }
   ],
   "source": [
    "%%time\n",
    "\n",
    "import platform\n",
    "print(platform.machine() + '-' + platform.system()  + '-' + platform.version())"
   ]
  },
  {
   "cell_type": "markdown",
   "id": "495b4a07",
   "metadata": {},
   "source": [
    "# <a id='toc4_'></a>[Test TOC](#toc0_)"
   ]
  },
  {
   "cell_type": "markdown",
   "id": "cb49a11b",
   "metadata": {},
   "source": []
  }
 ],
 "metadata": {
  "kernelspec": {
   "display_name": "Python 3 (ipykernel)",
   "language": "python",
   "name": "python3"
  },
  "language_info": {
   "codemirror_mode": {
    "name": "ipython",
    "version": 3
   },
   "file_extension": ".py",
   "mimetype": "text/x-python",
   "name": "python",
   "nbconvert_exporter": "python",
   "pygments_lexer": "ipython3",
   "version": "3.10.11"
  }
 },
 "nbformat": 4,
 "nbformat_minor": 5
}
